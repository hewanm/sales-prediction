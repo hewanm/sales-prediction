{
 "cells": [
  {
   "cell_type": "code",
   "execution_count": 1,
   "id": "88860700",
   "metadata": {},
   "outputs": [],
   "source": [
    "import numpy as np\n",
    "import pandas as pd\n",
    "import seaborn as sns\n",
    "import logging\n",
    "import sys, os\n",
    "import warnings\n",
    "from sklearn.ensemble import RandomForestRegressor"
   ]
  },
  {
   "cell_type": "code",
   "execution_count": 2,
   "id": "b7b6bc9f",
   "metadata": {},
   "outputs": [],
   "source": [
    "sys.path.append(os.path.abspath(os.path.join('../scripts')))\n",
    "from train import TrainModel\n",
    "from file import FileHandler"
   ]
  },
  {
   "cell_type": "code",
   "execution_count": 3,
   "id": "ac3d883b",
   "metadata": {},
   "outputs": [],
   "source": [
    "file_handler= FileHandler()"
   ]
  },
  {
   "cell_type": "code",
   "execution_count": 4,
   "id": "19cb9dd0",
   "metadata": {},
   "outputs": [],
   "source": [
    "df = file_handler.read_csv('../data/train.csv')"
   ]
  },
  {
   "cell_type": "code",
   "execution_count": 5,
   "id": "cb3d5ef5",
   "metadata": {},
   "outputs": [
    {
     "name": "stderr",
     "output_type": "stream",
     "text": [
      "2022/05/30 14:16:03 WARNING mlflow.tracking.context.git_context: Failed to import Git (the Git executable is probably not on your PATH), so Git SHA is not available. Error: Failed to initialize: Bad git executable.\n",
      "The git executable must be specified in one of the following ways:\n",
      "    - be included in your $PATH\n",
      "    - be set via $GIT_PYTHON_GIT_EXECUTABLE\n",
      "    - explicitly set via git.refresh()\n",
      "\n",
      "All git commands will error until this is rectified.\n",
      "\n",
      "This initial warning can be silenced or aggravated in the future by setting the\n",
      "$GIT_PYTHON_REFRESH environment variable. Use one of the following values:\n",
      "    - quiet|q|silence|s|none|n|0: for no warning or exception\n",
      "    - warn|w|warning|1: for a printed warning\n",
      "    - error|e|raise|r|2: for a raised exception\n",
      "\n",
      "Example:\n",
      "    export GIT_PYTHON_REFRESH=quiet\n",
      "\n",
      "2022/05/30 14:16:03 INFO mlflow.utils.autologging_utils: Created MLflow autologging run with ID '98c8b4292afb4e92bfe948c31ecd3068', which will track hyperparameters, performance metrics, model artifacts, and lineage information for the current sklearn workflow\n",
      "2022/05/30 14:16:04 WARNING mlflow.utils.autologging_utils: MLflow autologging encountered a warning: \"C:\\ProgramData\\Anaconda3\\lib\\site-packages\\mlflow\\utils\\autologging_utils\\safety.py:535: DataConversionWarning: A column-vector y was passed when a 1d array was expected. Please change the shape of y to (n_samples,), for example using ravel().\"\n",
      "[Parallel(n_jobs=-1)]: Using backend ThreadingBackend with 8 concurrent workers.\n",
      "[Parallel(n_jobs=-1)]: Done  15 out of  15 | elapsed:   15.7s finished\n",
      "[Parallel(n_jobs=8)]: Using backend ThreadingBackend with 8 concurrent workers.\n",
      "[Parallel(n_jobs=8)]: Done  15 out of  15 | elapsed:    0.1s finished\n",
      "[Parallel(n_jobs=8)]: Using backend ThreadingBackend with 8 concurrent workers.\n",
      "[Parallel(n_jobs=8)]: Done  15 out of  15 | elapsed:    0.1s finished\n",
      "[Parallel(n_jobs=8)]: Using backend ThreadingBackend with 8 concurrent workers.\n",
      "[Parallel(n_jobs=8)]: Done  15 out of  15 | elapsed:    0.0s finished\n",
      "2022/05/30 14:16:21 WARNING mlflow.utils.autologging_utils: MLflow autologging encountered a warning: \"C:\\ProgramData\\Anaconda3\\lib\\site-packages\\mlflow\\models\\signature.py:129: UserWarning: Hint: Inferred schema contains integer column(s). Integer columns in Python cannot represent missing values. If your input data contains missing values at inference time, it will be encoded as floats and will cause a schema enforcement error. The best way to avoid this problem is to infer the model schema based on a realistic data sample (training dataset) that includes missing values. Alternatively, you can declare integer columns as doubles (float64) whenever these columns may have missing values. See `Handling Integers With Missing Values <https://www.mlflow.org/docs/latest/models.html#handling-integers-with-missing-values>`_ for more details.\"\n",
      "2022/05/30 14:16:27 INFO mlflow.utils.autologging_utils: Created MLflow autologging run with ID '76f9d0c171e04b5694227d889d622238', which will track hyperparameters, performance metrics, model artifacts, and lineage information for the current sklearn workflow\n",
      "2022/05/30 14:16:27 WARNING mlflow.utils.autologging_utils: MLflow autologging encountered a warning: \"C:\\ProgramData\\Anaconda3\\lib\\site-packages\\mlflow\\utils\\autologging_utils\\safety.py:535: DataConversionWarning: A column-vector y was passed when a 1d array was expected. Please change the shape of y to (n_samples,), for example using ravel().\"\n",
      "[Parallel(n_jobs=-1)]: Using backend ThreadingBackend with 8 concurrent workers.\n",
      "[Parallel(n_jobs=-1)]: Done  15 out of  15 | elapsed:   12.4s finished\n",
      "[Parallel(n_jobs=8)]: Using backend ThreadingBackend with 8 concurrent workers.\n",
      "[Parallel(n_jobs=8)]: Done  15 out of  15 | elapsed:    0.1s finished\n",
      "[Parallel(n_jobs=8)]: Using backend ThreadingBackend with 8 concurrent workers.\n",
      "[Parallel(n_jobs=8)]: Done  15 out of  15 | elapsed:    0.1s finished\n",
      "[Parallel(n_jobs=8)]: Using backend ThreadingBackend with 8 concurrent workers.\n",
      "[Parallel(n_jobs=8)]: Done  15 out of  15 | elapsed:    0.0s finished\n",
      "2022/05/30 14:16:41 WARNING mlflow.utils.autologging_utils: MLflow autologging encountered a warning: \"C:\\ProgramData\\Anaconda3\\lib\\site-packages\\mlflow\\models\\signature.py:129: UserWarning: Hint: Inferred schema contains integer column(s). Integer columns in Python cannot represent missing values. If your input data contains missing values at inference time, it will be encoded as floats and will cause a schema enforcement error. The best way to avoid this problem is to infer the model schema based on a realistic data sample (training dataset) that includes missing values. Alternatively, you can declare integer columns as doubles (float64) whenever these columns may have missing values. See `Handling Integers With Missing Values <https://www.mlflow.org/docs/latest/models.html#handling-integers-with-missing-values>`_ for more details.\"\n"
     ]
    }
   ],
   "source": [
    "model = RandomForestRegressor(n_jobs=-1, n_estimators=15,\n",
    "                                verbose=True,\n",
    "                                max_depth=15,\n",
    "                                min_samples_split=2,\n",
    "                                min_samples_leaf=1)\n",
    "\n",
    "train_model = TrainModel(model, \"Random Forest Regressor\")\n",
    "train_model.train_sales()\n",
    "train_model.train_customers()"
   ]
  },
  {
   "cell_type": "code",
   "execution_count": null,
   "id": "11ecdb75",
   "metadata": {
    "scrolled": true
   },
   "outputs": [],
   "source": []
  }
 ],
 "metadata": {
  "kernelspec": {
   "display_name": "Python 3 (ipykernel)",
   "language": "python",
   "name": "python3"
  },
  "language_info": {
   "codemirror_mode": {
    "name": "ipython",
    "version": 3
   },
   "file_extension": ".py",
   "mimetype": "text/x-python",
   "name": "python",
   "nbconvert_exporter": "python",
   "pygments_lexer": "ipython3",
   "version": "3.9.7"
  }
 },
 "nbformat": 4,
 "nbformat_minor": 5
}
