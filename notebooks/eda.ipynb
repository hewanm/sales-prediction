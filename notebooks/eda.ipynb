{
 "cells": [
  {
   "cell_type": "code",
   "execution_count": 1,
   "id": "2a6cedab",
   "metadata": {},
   "outputs": [],
   "source": [
    "import numpy as np\n",
    "import pandas as pd\n",
    "import matplotlib\n",
    "import matplotlib.pyplot as plt\n",
    "import seaborn as sns\n",
    "import logging\n",
    "import sys, os\n",
    "import warnings\n",
    "\n",
    "sns.set_style(\"darkgrid\")\n",
    "%matplotlib inline"
   ]
  },
  {
   "cell_type": "code",
   "execution_count": 2,
   "id": "7fc76edf",
   "metadata": {},
   "outputs": [],
   "source": [
    "sys.path.append(os.path.abspath(os.path.join('../scripts')))\n",
    "from file import FileHandler\n",
    "from cleaning import *\n",
    "from plotting import *\n",
    "from selector import *"
   ]
  },
  {
   "cell_type": "code",
   "execution_count": 3,
   "id": "b36c59f9",
   "metadata": {},
   "outputs": [],
   "source": [
    "warnings.filterwarnings('ignore')\n",
    "pd.set_option('display.max_columns', 50)"
   ]
  },
  {
   "cell_type": "code",
   "execution_count": 4,
   "id": "bb2f86f7",
   "metadata": {},
   "outputs": [],
   "source": [
    "# create a FileHandler object\n",
    "file_handler = FileHandler()"
   ]
  },
  {
   "cell_type": "code",
   "execution_count": 5,
   "id": "aa2a23c6",
   "metadata": {},
   "outputs": [],
   "source": [
    "# reading version 2 store csv file\n",
    "df = file_handler.read_csv(\"../data/train.csv\")"
   ]
  },
  {
   "cell_type": "markdown",
   "id": "e5eb0d99",
   "metadata": {},
   "source": [
    "# Univariate"
   ]
  },
  {
   "cell_type": "markdown",
   "id": "b97aafc8",
   "metadata": {},
   "source": [
    "#### Store Type"
   ]
  },
  {
   "cell_type": "code",
   "execution_count": 7,
   "id": "7fae4aae",
   "metadata": {},
   "outputs": [
    {
     "data": {
      "text/plain": [
       "a    551627\n",
       "d    312912\n",
       "c    136840\n",
       "b     15830\n",
       "Name: StoreType, dtype: int64"
      ]
     },
     "execution_count": 7,
     "metadata": {},
     "output_type": "execute_result"
    }
   ],
   "source": [
    "# unique value counts\n",
    "counts_df = df['StoreType'].value_counts()\n",
    "counts_df"
   ]
  },
  {
   "cell_type": "code",
   "execution_count": null,
   "id": "c6fee6c7",
   "metadata": {},
   "outputs": [],
   "source": []
  }
 ],
 "metadata": {
  "kernelspec": {
   "display_name": "Python 3 (ipykernel)",
   "language": "python",
   "name": "python3"
  },
  "language_info": {
   "codemirror_mode": {
    "name": "ipython",
    "version": 3
   },
   "file_extension": ".py",
   "mimetype": "text/x-python",
   "name": "python",
   "nbconvert_exporter": "python",
   "pygments_lexer": "ipython3",
   "version": "3.9.7"
  }
 },
 "nbformat": 4,
 "nbformat_minor": 5
}
